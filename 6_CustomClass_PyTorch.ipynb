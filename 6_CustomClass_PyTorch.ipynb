{
  "cells": [
    {
      "cell_type": "markdown",
      "metadata": {
        "id": "view-in-github",
        "colab_type": "text"
      },
      "source": [
        "<a href=\"https://colab.research.google.com/github/drago467/AIVN-MODULE-1/blob/main/6_CustomClass_PyTorch.ipynb\" target=\"_parent\"><img src=\"https://colab.research.google.com/assets/colab-badge.svg\" alt=\"Open In Colab\"/></a>"
      ]
    },
    {
      "cell_type": "markdown",
      "id": "1b877478",
      "metadata": {
        "id": "1b877478"
      },
      "source": [
        "### Sigmoid"
      ]
    },
    {
      "cell_type": "code",
      "execution_count": null,
      "id": "797cf316-0bbd-4547-a399-219fd6dd1d59",
      "metadata": {
        "id": "797cf316-0bbd-4547-a399-219fd6dd1d59",
        "outputId": "a9a2c0ed-ae7f-4649-eb5e-e2019952e295"
      },
      "outputs": [
        {
          "name": "stdout",
          "output_type": "stream",
          "text": [
            "tensor([0.7311, 0.8808, 0.9526])\n"
          ]
        }
      ],
      "source": [
        "import torch\n",
        "import torch.nn as nn\n",
        "\n",
        "sigmoid_function = nn.Sigmoid()\n",
        "data = torch.Tensor([1, 2, 3])\n",
        "output = sigmoid_function(data)\n",
        "print(output)"
      ]
    },
    {
      "cell_type": "code",
      "execution_count": null,
      "id": "bd07ed8c-8f4c-4f95-ac24-bb96850c21ac",
      "metadata": {
        "id": "bd07ed8c-8f4c-4f95-ac24-bb96850c21ac"
      },
      "outputs": [],
      "source": []
    },
    {
      "cell_type": "code",
      "execution_count": null,
      "id": "90fd8000-3990-4d17-96ac-802ce9314c28",
      "metadata": {
        "id": "90fd8000-3990-4d17-96ac-802ce9314c28"
      },
      "outputs": [],
      "source": [
        "class MySigmoid(nn.Module):\n",
        "    def __init__(self):\n",
        "        super().__init__()\n",
        "\n",
        "    def forward(self, x):\n",
        "        return 1 / (1 + torch.exp(-x))"
      ]
    },
    {
      "cell_type": "code",
      "execution_count": null,
      "id": "455b8eb1-6e3b-4364-8276-ca593c1d0169",
      "metadata": {
        "id": "455b8eb1-6e3b-4364-8276-ca593c1d0169",
        "outputId": "4b280dd3-08cb-4123-f34d-56f689675a67"
      },
      "outputs": [
        {
          "name": "stdout",
          "output_type": "stream",
          "text": [
            "tensor([0.7311, 0.8808, 0.9526])\n"
          ]
        }
      ],
      "source": [
        "my_sigmoid = MySigmoid()\n",
        "output = my_sigmoid(data)\n",
        "print(output)"
      ]
    },
    {
      "cell_type": "code",
      "execution_count": null,
      "id": "e60f8025-ba7f-4681-a8dc-c6c7220506d1",
      "metadata": {
        "id": "e60f8025-ba7f-4681-a8dc-c6c7220506d1"
      },
      "outputs": [],
      "source": []
    },
    {
      "cell_type": "markdown",
      "id": "3ffe4f20",
      "metadata": {
        "id": "3ffe4f20"
      },
      "source": [
        "## Relu"
      ]
    },
    {
      "cell_type": "code",
      "execution_count": null,
      "id": "544dee1d-1094-43b3-a103-f56a0d2e612c",
      "metadata": {
        "id": "544dee1d-1094-43b3-a103-f56a0d2e612c"
      },
      "outputs": [],
      "source": [
        "import torch\n",
        "import torch.nn as nn\n",
        "\n",
        "class MyReluActivation(nn.Module):\n",
        "    def __init__(self):\n",
        "        super().__init__()\n",
        "    def forward(self, x):\n",
        "        zeros = torch.zeros_like(x)\n",
        "        return torch.maximum(x, zeros)"
      ]
    },
    {
      "cell_type": "code",
      "execution_count": null,
      "id": "267be7a5-8bfe-4271-b425-77643d516e5d",
      "metadata": {
        "id": "267be7a5-8bfe-4271-b425-77643d516e5d",
        "outputId": "6bb4d027-bf12-4bb9-8a16-ab2f4535762a"
      },
      "outputs": [
        {
          "name": "stdout",
          "output_type": "stream",
          "text": [
            "tensor([1., 0., 3.])\n"
          ]
        }
      ],
      "source": [
        "data = torch.Tensor([1, -2, 3])\n",
        "my_relu = MyReluActivation()\n",
        "output = my_relu(data)\n",
        "print(output)"
      ]
    },
    {
      "cell_type": "code",
      "execution_count": null,
      "id": "4c10f19f-30fe-45d7-9075-74164a609546",
      "metadata": {
        "id": "4c10f19f-30fe-45d7-9075-74164a609546"
      },
      "outputs": [],
      "source": []
    },
    {
      "cell_type": "code",
      "execution_count": null,
      "id": "e0a83345",
      "metadata": {
        "id": "e0a83345",
        "outputId": "35a4ef67-6976-4f51-8891-945056712535"
      },
      "outputs": [
        {
          "name": "stdout",
          "output_type": "stream",
          "text": [
            "tensor([0.0900, 0.2447, 0.6652])\n"
          ]
        },
        {
          "name": "stderr",
          "output_type": "stream",
          "text": [
            "e:\\SoftInstallation\\conda\\envs\\torch_env\\Lib\\site-packages\\torch\\nn\\modules\\module.py:1511: UserWarning: Implicit dimension choice for softmax has been deprecated. Change the call to include dim=X as an argument.\n",
            "  return self._call_impl(*args, **kwargs)\n"
          ]
        }
      ],
      "source": [
        "import torch\n",
        "import torch.nn as nn\n",
        "\n",
        "softmax = nn.Softmax()\n",
        "data = torch.Tensor([1, 2, 3])\n",
        "output = softmax(data)\n",
        "print(output)"
      ]
    },
    {
      "cell_type": "code",
      "execution_count": null,
      "id": "c293b476",
      "metadata": {
        "id": "c293b476",
        "outputId": "fc6b2a11-d266-4596-954a-d1b31ad6c5c5"
      },
      "outputs": [
        {
          "name": "stdout",
          "output_type": "stream",
          "text": [
            "tensor([0.0900, 0.2447, 0.6652])\n"
          ]
        }
      ],
      "source": [
        "class MySoftmaxActivation(nn.Module):\n",
        "    def __init__(self):\n",
        "        super().__init__()\n",
        "\n",
        "    def forward(self, x):\n",
        "        x_exp = torch.exp(x)\n",
        "        return x_exp/torch.sum(x_exp)\n",
        "\n",
        "# test\n",
        "softmax = MySoftmaxActivation()\n",
        "data = torch.Tensor([1, 2, 3])\n",
        "output = softmax(data)\n",
        "print(output)"
      ]
    },
    {
      "cell_type": "code",
      "execution_count": null,
      "id": "71f8eeae",
      "metadata": {
        "id": "71f8eeae"
      },
      "outputs": [],
      "source": []
    },
    {
      "cell_type": "code",
      "execution_count": null,
      "id": "78119145",
      "metadata": {
        "id": "78119145",
        "outputId": "dfcdab95-f40c-497f-ccb5-c0d36470a59f"
      },
      "outputs": [
        {
          "data": {
            "text/plain": [
              "tensor([ 2.7183,  7.3891, 20.0855])"
            ]
          },
          "execution_count": 7,
          "metadata": {},
          "output_type": "execute_result"
        }
      ],
      "source": [
        "data = torch.Tensor([1, 2, 3])\n",
        "torch.exp(data)\n",
        ""
      ]
    },
    {
      "cell_type": "code",
      "execution_count": null,
      "id": "ee188fdf",
      "metadata": {
        "id": "ee188fdf",
        "outputId": "bd793c88-a0ab-4314-cec3-88d69c17a773"
      },
      "outputs": [
        {
          "data": {
            "text/plain": [
              "tensor(30.1929)"
            ]
          },
          "execution_count": 9,
          "metadata": {},
          "output_type": "execute_result"
        }
      ],
      "source": [
        "torch.sum(torch.exp(data))"
      ]
    },
    {
      "cell_type": "code",
      "execution_count": null,
      "id": "273871e8",
      "metadata": {
        "id": "273871e8"
      },
      "outputs": [],
      "source": []
    }
  ],
  "metadata": {
    "kernelspec": {
      "display_name": "Python 3 (ipykernel)",
      "language": "python",
      "name": "python3"
    },
    "language_info": {
      "codemirror_mode": {
        "name": "ipython",
        "version": 3
      },
      "file_extension": ".py",
      "mimetype": "text/x-python",
      "name": "python",
      "nbconvert_exporter": "python",
      "pygments_lexer": "ipython3",
      "version": "3.11.5"
    },
    "colab": {
      "provenance": [],
      "include_colab_link": true
    }
  },
  "nbformat": 4,
  "nbformat_minor": 5
}