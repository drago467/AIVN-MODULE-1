{
  "cells": [
    {
      "cell_type": "markdown",
      "metadata": {
        "id": "view-in-github",
        "colab_type": "text"
      },
      "source": [
        "<a href=\"https://colab.research.google.com/github/drago467/AIVN-MODULE-1/blob/main/4_Underflow_and_Overflow.ipynb\" target=\"_parent\"><img src=\"https://colab.research.google.com/assets/colab-badge.svg\" alt=\"Open In Colab\"/></a>"
      ]
    },
    {
      "cell_type": "code",
      "execution_count": null,
      "metadata": {
        "id": "RCK_tv0sNhIH",
        "outputId": "9c8b81e3-561b-49b4-fdb4-1d6b75c6fea4"
      },
      "outputs": [
        {
          "name": "stdout",
          "output_type": "stream",
          "text": [
            "1e-100\n"
          ]
        }
      ],
      "source": [
        "# aivietnam\n",
        "\n",
        "result = 1e-100\n",
        "print(result)"
      ]
    },
    {
      "cell_type": "code",
      "execution_count": null,
      "metadata": {
        "id": "dReTeP4bNhIJ",
        "outputId": "73d8244c-d56c-40a2-cfb0-28a3f1a9d994"
      },
      "outputs": [
        {
          "name": "stdout",
          "output_type": "stream",
          "text": [
            "0.0\n"
          ]
        }
      ],
      "source": [
        "# aivietnam\n",
        "\n",
        "result = 1e-1000\n",
        "print(result)"
      ]
    },
    {
      "cell_type": "code",
      "execution_count": null,
      "metadata": {
        "id": "K9QAjBIRNhIK",
        "outputId": "06a193d3-4a1f-4656-ed48-64b96a311fc6"
      },
      "outputs": [
        {
          "name": "stdout",
          "output_type": "stream",
          "text": [
            "1e+100\n"
          ]
        }
      ],
      "source": [
        "# aivietnam\n",
        "\n",
        "result = 1e100\n",
        "print(result)"
      ]
    },
    {
      "cell_type": "code",
      "execution_count": null,
      "metadata": {
        "id": "PYXud0xTNhIK",
        "outputId": "7f6b7d7f-1e70-4046-eaba-8e4784539a67"
      },
      "outputs": [
        {
          "name": "stdout",
          "output_type": "stream",
          "text": [
            "inf\n"
          ]
        }
      ],
      "source": [
        "# aivietnam\n",
        "\n",
        "result = 1e1000\n",
        "print(result)"
      ]
    },
    {
      "cell_type": "code",
      "execution_count": null,
      "metadata": {
        "id": "aPhYTfXgNhIK"
      },
      "outputs": [],
      "source": []
    },
    {
      "cell_type": "code",
      "execution_count": null,
      "metadata": {
        "id": "xTGSvDfINhIK"
      },
      "outputs": [],
      "source": [
        "# https://stats.stackexchange.com/questions/162988/why-sigmoid-function-instead-of-anything-else/318209#318209\n",
        "\n",
        "# https://datascience.stackexchange.com/questions/23159/in-softmax-classifier-why-use-exp-function-to-do-normalization\n",
        "\n",
        "# https://stackoverflow.com/questions/17187507/why-use-softmax-as-opposed-to-standard-normalization\n",
        "\n",
        "# https://intellipaat.com/community/1621/why-use-softmax-as-opposed-to-standard-normalization?fbclid=IwAR3V_lf3xSf_uD9FPBAZDm3SVV1vBJDg4AJY4yS6kGtA6FT-zYL68f2M4CM\n"
      ]
    },
    {
      "cell_type": "code",
      "execution_count": null,
      "metadata": {
        "id": "-XRTln-ONhIL"
      },
      "outputs": [],
      "source": []
    },
    {
      "cell_type": "code",
      "execution_count": null,
      "metadata": {
        "id": "jHIeIFUzNhIL",
        "outputId": "33cf1d5c-f8c8-44fc-f193-45503795f77d"
      },
      "outputs": [
        {
          "name": "stdout",
          "output_type": "stream",
          "text": [
            "0.09003  0.24473   0.66524\n"
          ]
        }
      ],
      "source": [
        "import math\n",
        "\n",
        "# Given three values\n",
        "v1 = 1.0\n",
        "v2 = 2.0\n",
        "v3 = 3.0\n",
        "\n",
        "# compute softmax\n",
        "total = math.exp(v1) + math.exp(v2) + math.exp(v3)\n",
        "\n",
        "s1 = math.exp(v1)/total\n",
        "s2 = math.exp(v2)/total\n",
        "s3 = math.exp(v3)/total\n",
        "\n",
        "# print out\n",
        "print(f\"{s1:.5f}  {s2:.5f}   {s3:.5f}\")\n",
        ""
      ]
    },
    {
      "cell_type": "code",
      "execution_count": null,
      "metadata": {
        "id": "nAAYx7yWNhIL"
      },
      "outputs": [],
      "source": []
    },
    {
      "cell_type": "code",
      "execution_count": null,
      "metadata": {
        "id": "l5D6JcQwNhIL",
        "outputId": "100282c2-86d6-4727-b0ec-04a21e417ed9"
      },
      "outputs": [
        {
          "ename": "OverflowError",
          "evalue": "math range error",
          "output_type": "error",
          "traceback": [
            "\u001b[1;31m---------------------------------------------------------------------------\u001b[0m",
            "\u001b[1;31mOverflowError\u001b[0m                             Traceback (most recent call last)",
            "\u001b[1;32mC:\\Users\\DINHVI~1\\AppData\\Local\\Temp/ipykernel_6404/1559505462.py\u001b[0m in \u001b[0;36m<module>\u001b[1;34m\u001b[0m\n\u001b[0;32m      7\u001b[0m \u001b[1;33m\u001b[0m\u001b[0m\n\u001b[0;32m      8\u001b[0m \u001b[1;31m# compute softmax\u001b[0m\u001b[1;33m\u001b[0m\u001b[1;33m\u001b[0m\u001b[0m\n\u001b[1;32m----> 9\u001b[1;33m \u001b[0mtotal\u001b[0m \u001b[1;33m=\u001b[0m \u001b[0mmath\u001b[0m\u001b[1;33m.\u001b[0m\u001b[0mexp\u001b[0m\u001b[1;33m(\u001b[0m\u001b[0mv1\u001b[0m\u001b[1;33m)\u001b[0m \u001b[1;33m+\u001b[0m \u001b[0mmath\u001b[0m\u001b[1;33m.\u001b[0m\u001b[0mexp\u001b[0m\u001b[1;33m(\u001b[0m\u001b[0mv2\u001b[0m\u001b[1;33m)\u001b[0m \u001b[1;33m+\u001b[0m \u001b[0mmath\u001b[0m\u001b[1;33m.\u001b[0m\u001b[0mexp\u001b[0m\u001b[1;33m(\u001b[0m\u001b[0mv3\u001b[0m\u001b[1;33m)\u001b[0m\u001b[1;33m\u001b[0m\u001b[1;33m\u001b[0m\u001b[0m\n\u001b[0m\u001b[0;32m     10\u001b[0m \u001b[1;33m\u001b[0m\u001b[0m\n\u001b[0;32m     11\u001b[0m \u001b[0ms1\u001b[0m \u001b[1;33m=\u001b[0m \u001b[0mmath\u001b[0m\u001b[1;33m.\u001b[0m\u001b[0mexp\u001b[0m\u001b[1;33m(\u001b[0m\u001b[0mv1\u001b[0m\u001b[1;33m)\u001b[0m\u001b[1;33m/\u001b[0m\u001b[0mtotal\u001b[0m\u001b[1;33m\u001b[0m\u001b[1;33m\u001b[0m\u001b[0m\n",
            "\u001b[1;31mOverflowError\u001b[0m: math range error"
          ]
        }
      ],
      "source": [
        "import math\n",
        "\n",
        "# Given three values\n",
        "v1 = 1001.0\n",
        "v2 = 1002.0\n",
        "v3 = 1003.0\n",
        "\n",
        "# compute softmax\n",
        "total = math.exp(v1) + math.exp(v2) + math.exp(v3)\n",
        "\n",
        "s1 = math.exp(v1)/total\n",
        "s2 = math.exp(v2)/total\n",
        "s3 = math.exp(v3)/total\n",
        "\n",
        "# print out\n",
        "print(f\"{s1:.5f}  {s2:.5f}   {s3:.5f}\")\n",
        ""
      ]
    },
    {
      "cell_type": "code",
      "execution_count": null,
      "metadata": {
        "id": "2Xc6FfTFNhIM"
      },
      "outputs": [],
      "source": []
    },
    {
      "cell_type": "code",
      "execution_count": null,
      "metadata": {
        "id": "Y8FtpVcSNhIM",
        "outputId": "600ffd0e-6d75-422d-b27d-e466e56ae71c"
      },
      "outputs": [
        {
          "name": "stdout",
          "output_type": "stream",
          "text": [
            "0.09003  0.24473   0.66524\n"
          ]
        }
      ],
      "source": [
        "import math\n",
        "\n",
        "# Given three values\n",
        "v1 = 1.0\n",
        "v2 = 2.0\n",
        "v3 = 3.0\n",
        "\n",
        "# get max\n",
        "max_value = v3\n",
        "\n",
        "# compute stable softmax\n",
        "e_v1 = math.exp(v1 - max_value)\n",
        "e_v2 = math.exp(v2 - max_value)\n",
        "e_v3 = math.exp(v3 - max_value)\n",
        "\n",
        "total = e_v1 + e_v2 + e_v3\n",
        "\n",
        "s1 = e_v1/total\n",
        "s2 = e_v2/total\n",
        "s3 = e_v3/total\n",
        "\n",
        "# print out\n",
        "print(f\"{s1:.5f}  {s2:.5f}   {s3:.5f}\")"
      ]
    },
    {
      "cell_type": "code",
      "execution_count": null,
      "metadata": {
        "id": "zoCSr44vNhIM"
      },
      "outputs": [],
      "source": []
    },
    {
      "cell_type": "code",
      "execution_count": null,
      "metadata": {
        "id": "kTIaaz4VNhIM",
        "outputId": "a0b743f6-070c-44bd-f4e7-402cefa2a9be"
      },
      "outputs": [
        {
          "name": "stdout",
          "output_type": "stream",
          "text": [
            "0.09003  0.24473   0.66524\n"
          ]
        }
      ],
      "source": [
        "import math\n",
        "\n",
        "# Given three values\n",
        "v1 = 1001.0\n",
        "v2 = 1002.0\n",
        "v3 = 1003.0\n",
        "\n",
        "# get max\n",
        "max_value = v3\n",
        "\n",
        "# compute stable softmax\n",
        "e_v1 = math.exp(v1 - max_value)\n",
        "e_v2 = math.exp(v2 - max_value)\n",
        "e_v3 = math.exp(v3 - max_value)\n",
        "\n",
        "total = e_v1 + e_v2 + e_v3\n",
        "\n",
        "s1 = e_v1/total\n",
        "s2 = e_v2/total\n",
        "s3 = e_v3/total\n",
        "\n",
        "# print out\n",
        "print(f\"{s1:.5f}  {s2:.5f}   {s3:.5f}\")"
      ]
    },
    {
      "cell_type": "code",
      "execution_count": null,
      "metadata": {
        "id": "mB3HtGX6NhIM"
      },
      "outputs": [],
      "source": []
    },
    {
      "cell_type": "code",
      "execution_count": null,
      "metadata": {
        "id": "zv4YU4-qNhIM",
        "outputId": "ae7e7a1d-570e-4260-daaa-c4f4a2be91b0"
      },
      "outputs": [
        {
          "name": "stdout",
          "output_type": "stream",
          "text": [
            "0.00000  0.26894   0.73106\n"
          ]
        }
      ],
      "source": [
        "import math\n",
        "\n",
        "# Given three values\n",
        "v1 = 1.0\n",
        "v2 = 1001.0\n",
        "v3 = 1002.0\n",
        "\n",
        "# get max\n",
        "max_value = v3\n",
        "\n",
        "# compute stable softmax\n",
        "e_v1 = math.exp(v1 - max_value)\n",
        "e_v2 = math.exp(v2 - max_value)\n",
        "e_v3 = math.exp(v3 - max_value)\n",
        "\n",
        "total = e_v1 + e_v2 + e_v3\n",
        "\n",
        "s1 = e_v1/total\n",
        "s2 = e_v2/total\n",
        "s3 = e_v3/total\n",
        "\n",
        "# print out\n",
        "print(f\"{s1:.5f}  {s2:.5f}   {s3:.5f}\")"
      ]
    },
    {
      "cell_type": "code",
      "execution_count": null,
      "metadata": {
        "id": "i1Mqr3GdNhIN"
      },
      "outputs": [],
      "source": []
    }
  ],
  "metadata": {
    "kernelspec": {
      "display_name": "Python 3 (ipykernel)",
      "language": "python",
      "name": "python3"
    },
    "language_info": {
      "codemirror_mode": {
        "name": "ipython",
        "version": 3
      },
      "file_extension": ".py",
      "mimetype": "text/x-python",
      "name": "python",
      "nbconvert_exporter": "python",
      "pygments_lexer": "ipython3",
      "version": "3.9.18"
    },
    "colab": {
      "provenance": [],
      "include_colab_link": true
    }
  },
  "nbformat": 4,
  "nbformat_minor": 0
}