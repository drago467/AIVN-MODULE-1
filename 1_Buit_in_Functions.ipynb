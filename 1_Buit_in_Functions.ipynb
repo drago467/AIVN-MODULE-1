{
  "cells": [
    {
      "cell_type": "markdown",
      "metadata": {
        "id": "view-in-github",
        "colab_type": "text"
      },
      "source": [
        "<a href=\"https://colab.research.google.com/github/drago467/AIVN-MODULE-1/blob/main/1_Buit_in_Functions.ipynb\" target=\"_parent\"><img src=\"https://colab.research.google.com/assets/colab-badge.svg\" alt=\"Open In Colab\"/></a>"
      ]
    },
    {
      "cell_type": "markdown",
      "metadata": {
        "id": "hztbJqcr2dCK"
      },
      "source": [
        "## Some Built-in Functions"
      ]
    },
    {
      "cell_type": "code",
      "execution_count": null,
      "metadata": {
        "id": "zYB0u4ZU2dCM"
      },
      "outputs": [],
      "source": [
        "# yêu cầu user nhập từ bàn phím\n",
        "value = input(\"Value: \")\n",
        "\n",
        "print(value)\n",
        "print(type(value))"
      ]
    },
    {
      "cell_type": "code",
      "execution_count": null,
      "metadata": {
        "id": "hmXn9xuq2dCN"
      },
      "outputs": [],
      "source": []
    },
    {
      "cell_type": "code",
      "execution_count": null,
      "metadata": {
        "id": "kMhVXUlz2dCN"
      },
      "outputs": [],
      "source": [
        "# yêu cầu user nhập từ bàn phím\n",
        "value = input(\"Value: \")\n",
        "\n",
        "value = int(value)\n",
        "\n",
        "print(value)\n",
        "print(type(value))"
      ]
    },
    {
      "cell_type": "code",
      "execution_count": null,
      "metadata": {
        "id": "lYFu65cB2dCO"
      },
      "outputs": [],
      "source": []
    },
    {
      "cell_type": "code",
      "execution_count": null,
      "metadata": {
        "id": "EP382d6r2dCO",
        "outputId": "6bf73bb1-df0e-4b21-dcbb-8a4a8d116ae3"
      },
      "outputs": [
        {
          "name": "stdout",
          "output_type": "stream",
          "text": [
            "Input degrees: 180\n",
            "3.14159\n"
          ]
        }
      ],
      "source": [
        "# yêu cầu user nhập góc theo độ và\n",
        "# ép kiểu dữ liệu về float\n",
        "degree = float(input(\"Input degrees: \"))\n",
        "\n",
        "# tính góc theo radian\n",
        "PI_number = 3.14159\n",
        "radian = degree*(PI_number/180)\n",
        "print(radian)"
      ]
    },
    {
      "cell_type": "code",
      "execution_count": null,
      "metadata": {
        "id": "Cj0nzBpn2dCP"
      },
      "outputs": [],
      "source": []
    },
    {
      "cell_type": "code",
      "execution_count": null,
      "metadata": {
        "id": "dOXY6bN62dCP"
      },
      "outputs": [],
      "source": [
        "# input\n",
        "temp_c = float(input('Nhập nhiệt độ theo độ C: '))\n",
        "\n",
        "# process\n",
        "temp_f = ((9 / 5) * temp_c) + 32\n",
        "\n",
        "# output\n",
        "print('Nhiệt độ F là: ', temp_f)"
      ]
    },
    {
      "cell_type": "code",
      "execution_count": null,
      "metadata": {
        "id": "436DmxVq2dCP"
      },
      "outputs": [],
      "source": []
    },
    {
      "cell_type": "code",
      "execution_count": null,
      "metadata": {
        "id": "2EkG5-Ze2dCP"
      },
      "outputs": [],
      "source": []
    },
    {
      "cell_type": "code",
      "execution_count": null,
      "metadata": {
        "id": "KdeganBa2dCP"
      },
      "outputs": [],
      "source": []
    },
    {
      "cell_type": "code",
      "execution_count": null,
      "metadata": {
        "id": "TIrMVY-p2dCP"
      },
      "outputs": [],
      "source": []
    },
    {
      "cell_type": "code",
      "execution_count": null,
      "metadata": {
        "id": "sXZmeXXO2dCP"
      },
      "outputs": [],
      "source": []
    },
    {
      "cell_type": "code",
      "execution_count": null,
      "metadata": {
        "id": "BAaCwsSx2dCP"
      },
      "outputs": [],
      "source": []
    },
    {
      "cell_type": "code",
      "execution_count": null,
      "metadata": {
        "id": "7RNCVjMm2dCP"
      },
      "outputs": [],
      "source": []
    },
    {
      "cell_type": "code",
      "execution_count": null,
      "metadata": {
        "id": "xzjkB_p42dCQ"
      },
      "outputs": [],
      "source": []
    },
    {
      "cell_type": "code",
      "execution_count": null,
      "metadata": {
        "id": "bL0Akxv_2dCQ"
      },
      "outputs": [],
      "source": [
        "# yêu cầu user nhập giá trị a\n",
        "a = int(input(\"Hãy nhập giá trị a: \"))\n",
        "\n",
        "# yêu cầu user nhập giá trị b\n",
        "b = int(input(\"Hãy nhập giá trị b: \"))\n",
        "\n",
        "# yêu cầu user nhập giá trị c\n",
        "c = int(input(\"Hãy nhập giá trị c: \"))\n",
        "\n",
        "is_right_triangle = not bool(a**2+b**2-c**2)\n",
        "print('Có phải là tam giác vuông? ', is_right_triangle)"
      ]
    },
    {
      "cell_type": "code",
      "execution_count": null,
      "metadata": {
        "id": "gsMngB5-2dCQ"
      },
      "outputs": [],
      "source": []
    }
  ],
  "metadata": {
    "kernelspec": {
      "display_name": "Python 3 (ipykernel)",
      "language": "python",
      "name": "python3"
    },
    "language_info": {
      "codemirror_mode": {
        "name": "ipython",
        "version": 3
      },
      "file_extension": ".py",
      "mimetype": "text/x-python",
      "name": "python",
      "nbconvert_exporter": "python",
      "pygments_lexer": "ipython3",
      "version": "3.9.18"
    },
    "colab": {
      "provenance": [],
      "include_colab_link": true
    }
  },
  "nbformat": 4,
  "nbformat_minor": 0
}